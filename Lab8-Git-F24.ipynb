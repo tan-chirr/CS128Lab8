{
 "cells": [
  {
   "cell_type": "markdown",
   "metadata": {},
   "source": [
    "Before you turn this problem in, make sure everything runs as expected. First, **restart the kernel** (in the menubar, select Kernel$\\rightarrow$Restart) and then **run all cells** (in the menubar, select Cell$\\rightarrow$Run All).\n",
    "\n",
    "Make sure you fill in any place that says `YOUR CODE HERE` or \"YOUR ANSWER HERE\", as well as your name and collaborators below:"
   ]
  },
  {
   "cell_type": "raw",
   "metadata": {},
   "source": [
    "NAME = \"Tanaka\"\n",
    "COLLABORATORS = \"\""
   ]
  },
  {
   "cell_type": "markdown",
   "metadata": {},
   "source": [
    "---"
   ]
  },
  {
   "cell_type": "markdown",
   "metadata": {
    "deletable": false,
    "editable": false,
    "nbgrader": {
     "cell_type": "markdown",
     "checksum": "e7d15af53cf1b69e1e5eb1f3c0dc5daa",
     "grade": false,
     "grade_id": "title",
     "locked": true,
     "schema_version": 3,
     "solution": false,
     "task": false
    }
   },
   "source": [
    "---\n",
    "## Lab 8: Git\n",
    "\n"
   ]
  },
  {
   "cell_type": "raw",
   "metadata": {
    "deletable": false,
    "editable": false,
    "nbgrader": {
     "cell_type": "markdown",
     "checksum": "bdc3739cb84ad0d4f4e18177f821bf58",
     "grade": false,
     "grade_id": "Divider1",
     "locked": true,
     "schema_version": 3,
     "solution": false,
     "task": false
    }
   },
   "source": [
    "---\n",
    "### Exercise 1: Git Together\n",
    "---\n",
    "\n",
    "![merge_conflict.png](attachment:0a481736-1382-4983-bda3-bba69da54a01.png)\n",
    "\n",
    "Git merge is an important feature which allows you to integrate changes from one branch into another, allowing developers to work on different branches and then merge later. Merge conflicts can occur due to various reasons. A merge conflict arises when two separate branches have made edits to the same line in a file, or when a file has been deleted in one branch but edited in the other. In this exercise, we only consider this case: Two developers attempt to change the same line in a file and trigger a merge conflict when they commit. For simplicity, the two developers will not add or delete lines, but only make changes on existing lines of the file.\n",
    "\n",
    "Write a function merge() that takes three files as parameters: the first is the original file, the second is the commit made by the first developer, and the third file is the commit made by the second developer. If the same line in the original file is changed by two developers, it is considered a conflict. Your function should return a boolean variable describing whether there will be a conflict or not. See the test cases below for examples. The files are available on Moodle in the “Lab” tile under Lab 8.\n",
    "\n",
    "merge(“original.txt”, “noconflict_a.txt”, “noconflict_b.txt”) returns False\n",
    "\n",
    "merge(“original.txt”, “noconflict_c.txt”, “noconflict_d.txt”) returns False\n",
    "\n",
    "merge(“original.txt”, “conflict_a.txt”, “conflict_b.txt”) returns True"
   ]
  },
  {
   "cell_type": "code",
   "execution_count": 11,
   "metadata": {
    "deletable": false,
    "nbgrader": {
     "cell_type": "code",
     "checksum": "3f6cab71a6f9942671a96cd9b81e96e3",
     "grade": false,
     "grade_id": "Part1",
     "locked": false,
     "schema_version": 3,
     "solution": true,
     "task": false
    }
   },
   "outputs": [
    {
     "name": "stdout",
     "output_type": "stream",
     "text": [
      "False\n",
      "False\n",
      "True\n"
     ]
    }
   ],
   "source": [
    "def merge(original_file, file_2, file_3):\n",
    "    original_file_1 = open(original_file, \"r\")\n",
    "    original_file_c = original_file_1.readlines()\n",
    "    original_file_1.close()\n",
    "\n",
    "    file_2_open = open(file_2, \"r\")\n",
    "    file_2_c = file_2_open.readlines()\n",
    "    file_2_open.close()\n",
    "\n",
    "    file_3_open = open(file_3, \"r\")\n",
    "    file_3_c = file_3_open.readlines()\n",
    "    file_3_open.close()\n",
    "\n",
    "   \n",
    "    for line in range(len(original_file_c)):\n",
    "        if file_2_c[line] != original_file_c[line] and file_3_c[line] != original_file_c[line]:\n",
    "            if file_2_c[line] != file_3_c[line]:\n",
    "                return True \n",
    "\n",
    "    return False\n",
    "\n",
    "print(merge(\"original.txt\", \"noconflict_a.txt\", \"noconflict_b.txt\"))  \n",
    "print(merge(\"original.txt\", \"noconflict_c.txt\", \"noconflict_d.txt\")) \n",
    "print(merge(\"original.txt\", \"conflict_a.txt\", \"conflict_b.txt\"))     \n",
    "\n",
    "\n",
    "\n",
    "\n",
    "\n",
    "\n",
    "\n",
    "\n",
    "\n",
    "\n",
    "\n"
   ]
  },
  {
   "cell_type": "markdown",
   "metadata": {
    "deletable": false,
    "editable": false,
    "nbgrader": {
     "cell_type": "markdown",
     "checksum": "5544cd1592cc0e5cdb686a4809a9e94d",
     "grade": false,
     "grade_id": "Divider2",
     "locked": true,
     "schema_version": 3,
     "solution": false,
     "task": false
    }
   },
   "source": [
    "---\n",
    "### Exercise 2: Git or Miss\n",
    "---\n",
    "\n",
    "The Git commands required to push or pull code to or from a remote repository can vary based on factors such as your current working directory, active branches, and the state of the repository. For this exercise, we will work with a fixed set of commands that must be followed in a specific order to perform either a push or a pull.\n",
    "\n",
    "**In order to push code we assume the following 5 commands must be executed in order:**\n",
    "\n",
    "git init -b [branch_name] # initialize the local directory as a Git repository\n",
    "\n",
    "git add [file_name] # add the files in your new local repository\n",
    "\n",
    "git commit -m [message] # Commits the tracked changes and prepares them to be pushed to a remote repository\n",
    "\n",
    "git remote add origin [remote_url] # add the URL for the remote repository where your local repository will be pushed\n",
    "\n",
    "git push -u origin [branch_name] # push the changes in your local repository to remote\n",
    "\n",
    "\n",
    "**To pull code, one of the following sets of commands must be executed in order:**\n",
    "\n",
    "**1st set:**\n",
    "\n",
    "git checkout [branch_name] # checkout and switch to the branch\n",
    "\n",
    "git pull [remote_repo] # pull down the branch\n",
    "\n",
    "**2nd set:**\n",
    "\n",
    "git checkout main # switch to the main branch\n",
    "\n",
    "git pull --rebase origin # rebase and synchronize with the remote main branch.\n",
    "\n",
    "\n",
    "Write a function git_action() that reads a series of Git commands from a text file and determines whether these commands, when executed sequentially, result in a push, pull, or neither. Your function should validate the commands and their flags (excluding the parts in square brackets, we assume these parts must exist, but can be any string other than empty) and return \"push\", \"pull\", or \"neither\" as a string. The function should take the filename as input.\n",
    "\n",
    "**Sample Test Cases (get files from Moodle):**\n",
    "\n",
    "git_action(“push.txt”) returns push\n",
    "\n",
    "git_action(“pull_a.txt”) returns pull\n",
    "\n",
    "git_action(“pull_b.txt”) returns pull\n",
    "\n",
    "git_action(“neither_a.txt”) returns neither\n",
    "\n",
    "git_action(“neither_b.txt”) returns neither\n",
    "\n",
    "git_action(“neither_c.txt”) returns neither"
   ]
  },
  {
   "cell_type": "code",
   "execution_count": 7,
   "metadata": {
    "deletable": false,
    "nbgrader": {
     "cell_type": "code",
     "checksum": "d53289e8c6687b33ce965daf82462361",
     "grade": false,
     "grade_id": "Part2",
     "locked": false,
     "schema_version": 3,
     "solution": true,
     "task": false
    }
   },
   "outputs": [
    {
     "data": {
      "text/plain": [
       "'pull'"
      ]
     },
     "execution_count": 7,
     "metadata": {},
     "output_type": "execute_result"
    }
   ],
   "source": [
    "def git_action(file_name):\n",
    "    file = open(file_name, \"r\")\n",
    "    file_r = file.readlines()\n",
    "    file.close()\n",
    "    \n",
    "    push_sequence = [\n",
    "        \"git init -b\",\n",
    "        \"git add\",\n",
    "        \"git commit -m\",\n",
    "        \"git remote add origin\",\n",
    "        \"git push -u origin\"\n",
    "    ]\n",
    "    \n",
    "    pull_sequence_a = [\n",
    "        \"git checkout\",\n",
    "        \"git pull\"\n",
    "    ]\n",
    "    \n",
    "    pull_sequence_b = [\n",
    "        \"git checkout main\",\n",
    "        \"git pull --rebase origin\"\n",
    "    ]\n",
    "    \n",
    "    \n",
    "    commands = [\" \".join(line.split()[:3 if \"git init -b\" in line else 2]) for line in file_r]\n",
    "    \n",
    "    if commands == push_sequence:\n",
    "        return \"push\"\n",
    "    elif commands == pull_sequence_a or commands == pull_sequence_b:\n",
    "        return \"pull\"\n",
    "    else:\n",
    "        return \"neither\"\n",
    "git_action(\"push.txt\")\n",
    "git_action(\"pull_b.txt\")\n",
    " "
   ]
  },
  {
   "cell_type": "markdown",
   "metadata": {
    "deletable": false,
    "editable": false,
    "nbgrader": {
     "cell_type": "markdown",
     "checksum": "b3ca2b5c3eaeb165b9c4d3a8755e8de7",
     "grade": false,
     "grade_id": "Divider3",
     "locked": true,
     "schema_version": 3,
     "solution": false,
     "task": false
    }
   },
   "source": [
    "---\n",
    "### Exercise 3: The Commands\n",
    "---\n",
    "\n",
    "Read the \"Git Cheat Sheet\" under Week 10 Course Materials on Moodle, and answer the following questions. You can simply write the command down as text."
   ]
  },
  {
   "cell_type": "markdown",
   "metadata": {
    "deletable": false,
    "editable": false,
    "nbgrader": {
     "cell_type": "markdown",
     "checksum": "fe2e1823bb66abe8672a36bf832f03ba",
     "grade": false,
     "grade_id": "cell-3d618c803492de37",
     "locked": true,
     "schema_version": 3,
     "solution": false,
     "task": false
    }
   },
   "source": [
    "#### 3.1. What is the command to initialize a git repository?"
   ]
  },
  {
   "cell_type": "markdown",
   "metadata": {
    "deletable": false,
    "nbgrader": {
     "cell_type": "markdown",
     "checksum": "315e23bdc210c384be654e24d5ab37ee",
     "grade": true,
     "grade_id": "Part3-1",
     "locked": false,
     "points": 2,
     "schema_version": 3,
     "solution": true,
     "task": false
    }
   },
   "source": [
    "git init"
   ]
  },
  {
   "cell_type": "markdown",
   "metadata": {
    "deletable": false,
    "editable": false,
    "nbgrader": {
     "cell_type": "markdown",
     "checksum": "ea2b2dec414b0203848c8636edfd5a57",
     "grade": false,
     "grade_id": "cell-fe08607bcf73555c",
     "locked": true,
     "schema_version": 3,
     "solution": false,
     "task": false
    }
   },
   "source": [
    "#### 3.2 What is the command to show modified files in working directory?"
   ]
  },
  {
   "cell_type": "markdown",
   "metadata": {
    "deletable": false,
    "nbgrader": {
     "cell_type": "markdown",
     "checksum": "81c24b0db947cceeb20f9e0922fb2e57",
     "grade": true,
     "grade_id": "Part3-2",
     "locked": false,
     "points": 2,
     "schema_version": 3,
     "solution": true,
     "task": false
    }
   },
   "source": [
    "git status"
   ]
  },
  {
   "cell_type": "markdown",
   "metadata": {
    "deletable": false,
    "editable": false,
    "nbgrader": {
     "cell_type": "markdown",
     "checksum": "1c6b4b549325ce8c2e1f58f97980aa50",
     "grade": false,
     "grade_id": "cell-10135bc53d072a76",
     "locked": true,
     "schema_version": 3,
     "solution": false,
     "task": false
    }
   },
   "source": [
    "#### 3.3 What is the command to add a file called \"file.txt\" to the staging environment?"
   ]
  },
  {
   "cell_type": "markdown",
   "metadata": {
    "deletable": false,
    "nbgrader": {
     "cell_type": "markdown",
     "checksum": "70149da656a3f914c2aadc28f62c314c",
     "grade": true,
     "grade_id": "Part3-3",
     "locked": false,
     "points": 2,
     "schema_version": 3,
     "solution": true,
     "task": false
    }
   },
   "source": [
    "git add "
   ]
  },
  {
   "cell_type": "markdown",
   "metadata": {
    "deletable": false,
    "editable": false,
    "nbgrader": {
     "cell_type": "markdown",
     "checksum": "c2270ce6de6176bae752489c3e767542",
     "grade": false,
     "grade_id": "cell-49ed9e7588cc2031",
     "locked": true,
     "schema_version": 3,
     "solution": false,
     "task": false
    }
   },
   "source": [
    "#### 3.4 What is the command to create a new branch called \"new-branch\"?"
   ]
  },
  {
   "cell_type": "markdown",
   "metadata": {
    "deletable": false,
    "nbgrader": {
     "cell_type": "markdown",
     "checksum": "e14a5646dc691ea77e7eca72b473eaa3",
     "grade": true,
     "grade_id": "Part3-4",
     "locked": false,
     "points": 2,
     "schema_version": 3,
     "solution": true,
     "task": false
    }
   },
   "source": [
    "git branch [branch-name]"
   ]
  },
  {
   "cell_type": "markdown",
   "metadata": {
    "deletable": false,
    "editable": false,
    "nbgrader": {
     "cell_type": "markdown",
     "checksum": "49f2ea55ecd46f34dd0f2f1a3a997b75",
     "grade": false,
     "grade_id": "cell-18580d56959f9bd0",
     "locked": true,
     "schema_version": 3,
     "solution": false,
     "task": false
    }
   },
   "source": [
    "#### 3.5 What is the command to push local commits on \"new-branch\" to a remote repository?"
   ]
  },
  {
   "cell_type": "markdown",
   "metadata": {
    "deletable": false,
    "nbgrader": {
     "cell_type": "markdown",
     "checksum": "86924824bca7ffd44ff4b5f34b2f968b",
     "grade": true,
     "grade_id": "Part3-5",
     "locked": false,
     "points": 2,
     "schema_version": 3,
     "solution": true,
     "task": false
    }
   },
   "source": [
    "git push origin"
   ]
  },
  {
   "cell_type": "markdown",
   "metadata": {
    "deletable": false,
    "editable": false,
    "nbgrader": {
     "cell_type": "markdown",
     "checksum": "582147ffc2f73185c26b62130b883aba",
     "grade": false,
     "grade_id": "cell-d3970aa0df4d72b5",
     "locked": true,
     "schema_version": 3,
     "solution": false,
     "task": false
    }
   },
   "source": [
    "#### 3.6 What is the command to get changes of \"new-branch\" on a remote repository back to local machine?"
   ]
  },
  {
   "cell_type": "markdown",
   "metadata": {
    "deletable": false,
    "nbgrader": {
     "cell_type": "markdown",
     "checksum": "c0ab99cf9a5504c72a879c4d1f4f9da9",
     "grade": true,
     "grade_id": "Part3-6",
     "locked": false,
     "points": 2,
     "schema_version": 3,
     "solution": true,
     "task": false
    }
   },
   "source": [
    "git fetch origin new-branch\n",
    "git checkout new-branch"
   ]
  },
  {
   "cell_type": "markdown",
   "metadata": {
    "deletable": false,
    "editable": false,
    "nbgrader": {
     "cell_type": "markdown",
     "checksum": "ecbd1cfc391497d8fadc8e24df91bc42",
     "grade": false,
     "grade_id": "Divider4",
     "locked": true,
     "schema_version": 3,
     "solution": false,
     "task": false
    }
   },
   "source": [
    "---\n",
    "### Exercise 4: Git It Out There\n",
    "---\n",
    "\n",
    "Create a repository on Github called \"CS128Lab8\".\n",
    "\n",
    "Commit this notebook to that repository.\n",
    "\n",
    "There are multiple ways to do that. One way is to commit straight from the command line in Jupyter. Another (maybe) simpler way is to download this notebook, go to your github repo, and upload through \"add files\".\n",
    "\n",
    "After your notebook is put on Github, paste the link to your repository below:\n"
   ]
  },
  {
   "cell_type": "markdown",
   "metadata": {
    "deletable": false,
    "nbgrader": {
     "cell_type": "markdown",
     "checksum": "7c63f35278d262f5d6eb1fcce0483c56",
     "grade": true,
     "grade_id": "Part4",
     "locked": false,
     "points": 5,
     "schema_version": 3,
     "solution": true,
     "task": false
    }
   },
   "source": [
    "YOUR ANSWER HERE"
   ]
  },
  {
   "cell_type": "code",
   "execution_count": null,
   "metadata": {
    "deletable": false,
    "editable": false,
    "nbgrader": {
     "cell_type": "code",
     "checksum": "e41268f6f3f81be916a920394e32c5d0",
     "grade": true,
     "grade_id": "cell-9e5a69bc78d1d35e",
     "locked": true,
     "points": 10,
     "schema_version": 3,
     "solution": false,
     "task": false
    }
   },
   "outputs": [],
   "source": [
    "# Ignore this cell\n",
    "# DO NOT DELETE THIS CELL\n",
    "### BEGIN TEST\n",
    "from nose.tools import assert_equal\n",
    "\n",
    "assert_equal(merge(\"original.txt\", \"noconflict_a.txt\", \"noconflict_b.txt\"), False)\n",
    "\n",
    "### END TEST"
   ]
  },
  {
   "cell_type": "code",
   "execution_count": null,
   "metadata": {
    "deletable": false,
    "editable": false,
    "nbgrader": {
     "cell_type": "code",
     "checksum": "de808dcd1669d4bd60d6c1b639376758",
     "grade": true,
     "grade_id": "cell-e3d94519613af313",
     "locked": true,
     "points": 10,
     "schema_version": 3,
     "solution": false,
     "task": false
    }
   },
   "outputs": [],
   "source": [
    "# Ignore this cell\n",
    "# DO NOT DELETE THIS CELL\n",
    "### BEGIN TEST\n",
    "from nose.tools import assert_equal\n",
    "\n",
    "assert_equal(merge(\"original.txt\", \"noconflict_c.txt\", \"noconflict_d.txt\"), False)\n",
    "\n",
    "### END TEST"
   ]
  },
  {
   "cell_type": "code",
   "execution_count": null,
   "metadata": {
    "deletable": false,
    "editable": false,
    "nbgrader": {
     "cell_type": "code",
     "checksum": "5d182a932ccea5ba4a861ab84d6060d6",
     "grade": true,
     "grade_id": "cell-ac3dd8fd1b2633f1",
     "locked": true,
     "points": 10,
     "schema_version": 3,
     "solution": false,
     "task": false
    }
   },
   "outputs": [],
   "source": [
    "# Ignore this cell\n",
    "# DO NOT DELETE THIS CELL\n",
    "### BEGIN TEST\n",
    "from nose.tools import assert_equal\n",
    "\n",
    "assert_equal(merge(\"original.txt\", \"conflict_a.txt\", \"conflict_b.txt\"), True)\n",
    "\n",
    "### END TEST"
   ]
  },
  {
   "cell_type": "code",
   "execution_count": null,
   "metadata": {
    "deletable": false,
    "editable": false,
    "nbgrader": {
     "cell_type": "code",
     "checksum": "77530a6147c979f79d6f3f1e9581b49f",
     "grade": true,
     "grade_id": "cell-e1bd57119a701315",
     "locked": true,
     "points": 10,
     "schema_version": 3,
     "solution": false,
     "task": false
    }
   },
   "outputs": [],
   "source": [
    "# Ignore this cell\n",
    "# DO NOT DELETE THIS CELL\n",
    "### BEGIN TEST\n",
    "from nose.tools import assert_equal\n",
    "\n",
    "assert_equal(git_action(\"push.txt\"), \"push\")\n",
    "\n",
    "### END TEST"
   ]
  },
  {
   "cell_type": "code",
   "execution_count": null,
   "metadata": {
    "deletable": false,
    "editable": false,
    "nbgrader": {
     "cell_type": "code",
     "checksum": "fea7fb37a3d4450c1aff6d7f6f515dc7",
     "grade": true,
     "grade_id": "cell-d92798150c85943b",
     "locked": true,
     "points": 10,
     "schema_version": 3,
     "solution": false,
     "task": false
    }
   },
   "outputs": [],
   "source": [
    "# Ignore this cell\n",
    "# DO NOT DELETE THIS CELL\n",
    "### BEGIN TEST\n",
    "from nose.tools import assert_equal\n",
    "\n",
    "assert_equal(git_action(\"pull_a.txt\"), \"pull\")\n",
    "\n",
    "### END TEST"
   ]
  },
  {
   "cell_type": "code",
   "execution_count": null,
   "metadata": {
    "deletable": false,
    "editable": false,
    "nbgrader": {
     "cell_type": "code",
     "checksum": "fd692b6687154a55f55d6cd446097b6e",
     "grade": true,
     "grade_id": "cell-4b0304d56fbd5c55",
     "locked": true,
     "points": 10,
     "schema_version": 3,
     "solution": false,
     "task": false
    }
   },
   "outputs": [],
   "source": [
    "# Ignore this cell\n",
    "# DO NOT DELETE THIS CELL\n",
    "### BEGIN TEST\n",
    "from nose.tools import assert_equal\n",
    "\n",
    "assert_equal(git_action(\"pull_b.txt\"), \"pull\")\n",
    "\n",
    "### END TEST"
   ]
  },
  {
   "cell_type": "code",
   "execution_count": null,
   "metadata": {
    "deletable": false,
    "editable": false,
    "nbgrader": {
     "cell_type": "code",
     "checksum": "e706bf4a69cd19e75e4824b58c535591",
     "grade": true,
     "grade_id": "cell-879f8a35b910086f",
     "locked": true,
     "points": 10,
     "schema_version": 3,
     "solution": false,
     "task": false
    }
   },
   "outputs": [],
   "source": [
    "# Ignore this cell\n",
    "# DO NOT DELETE THIS CELL\n",
    "### BEGIN TEST\n",
    "from nose.tools import assert_equal\n",
    "\n",
    "assert_equal(git_action(\"neither_a.txt\"), \"neither\")\n",
    "\n",
    "### END TEST"
   ]
  },
  {
   "cell_type": "code",
   "execution_count": null,
   "metadata": {
    "deletable": false,
    "editable": false,
    "nbgrader": {
     "cell_type": "code",
     "checksum": "ca42e22503ebfc2ca58f7e809c082ed0",
     "grade": true,
     "grade_id": "cell-6486f94ce5153fe2",
     "locked": true,
     "points": 10,
     "schema_version": 3,
     "solution": false,
     "task": false
    }
   },
   "outputs": [],
   "source": [
    "# Ignore this cell\n",
    "# DO NOT DELETE THIS CELL\n",
    "### BEGIN TEST\n",
    "from nose.tools import assert_equal\n",
    "\n",
    "assert_equal(git_action(\"neither_b.txt\"), \"neither\")\n",
    "\n",
    "### END TEST"
   ]
  },
  {
   "cell_type": "code",
   "execution_count": null,
   "metadata": {
    "deletable": false,
    "editable": false,
    "nbgrader": {
     "cell_type": "code",
     "checksum": "d996e134340583c53280119dc6aebe94",
     "grade": true,
     "grade_id": "cell-6b141a2e76616274",
     "locked": true,
     "points": 10,
     "schema_version": 3,
     "solution": false,
     "task": false
    }
   },
   "outputs": [],
   "source": [
    "# Ignore this cell\n",
    "# DO NOT DELETE THIS CELL\n",
    "### BEGIN TEST\n",
    "from nose.tools import assert_equal\n",
    "\n",
    "assert_equal(git_action(\"neither_c.txt\"), \"neither\")\n",
    "\n",
    "### END TEST"
   ]
  }
 ],
 "metadata": {
  "kernelspec": {
   "display_name": "Python 3.7",
   "language": "python",
   "name": "py37"
  },
  "language_info": {
   "codemirror_mode": {
    "name": "ipython",
    "version": 3
   },
   "file_extension": ".py",
   "mimetype": "text/x-python",
   "name": "python",
   "nbconvert_exporter": "python",
   "pygments_lexer": "ipython3",
   "version": "3.7.16"
  }
 },
 "nbformat": 4,
 "nbformat_minor": 4
}
